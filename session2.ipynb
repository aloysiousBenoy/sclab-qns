{
 "cells": [
  {
   "cell_type": "code",
   "execution_count": 7,
   "id": "vertical-fellow",
   "metadata": {},
   "outputs": [
    {
     "name": "stdout",
     "output_type": "stream",
     "text": [
      "V =  0.31746031746031755\n"
     ]
    }
   ],
   "source": [
    "# Q7 system of linear eqns \n",
    "import numpy as np\n",
    "import scipy.linalg as la\n",
    "A = np.array([[5,2,1],[2,6,-1],[1,-1,3]])\n",
    "B = np.array([1,0,0])\n",
    "I = la.solve(A,B)\n",
    "print(\"V = \", 2*(I[0]+I[1]))"
   ]
  },
  {
   "cell_type": "code",
   "execution_count": 12,
   "id": "mexican-satellite",
   "metadata": {},
   "outputs": [
    {
     "name": "stdout",
     "output_type": "stream",
     "text": [
      "(0.7077287898043153+0.8419548540323738j)\n",
      "(0.7077287898043153-0.8419548540323738j)\n",
      "(-0.3892873314033924+1.070675774890508j)\n",
      "(-0.3892873314033924-1.070675774890508j)\n",
      "(-0.6368829168018451+0j)\n"
     ]
    }
   ],
   "source": [
    "# Q11 Roots of a polynomial, to be cross checked\n",
    "import numpy as np\n",
    "roots = np.roots ([1,0,1,0,1,1])\n",
    "for i in roots :\n",
    "    if i <=1 and i >=-1 :\n",
    "        print(i)"
   ]
  },
  {
   "cell_type": "code",
   "execution_count": 50,
   "id": "separated-carpet",
   "metadata": {},
   "outputs": [
    {
     "data": {
      "image/png": "[encoded data removed]",
      "text/plain": [
       "<Figure size 432x288 with 1 Axes>"
      ]
     },
     "metadata": {
      "needs_background": "light"
     },
     "output_type": "display_data"
    },
    {
     "name": "stdout",
     "output_type": "stream",
     "text": [
      "local minima at t =  0j\n",
      "Value of p(t) at local minima is  (1+0j)\n"
     ]
    }
   ],
   "source": [
    "# Q12 Plot derivative of polynomial\n",
    "import numpy.polynomial as poly\n",
    "import matplotlib.pyplot as plt\n",
    "p = poly.Polynomial([1,0,3,-1,2])\n",
    "p_deriv = p.deriv()\n",
    "t = np.linspace(-1,1,100)\n",
    "plt.plot(t,p_deriv(t))\n",
    "plt.show()\n",
    "\n",
    "# Find  the local minima of the polynomial\n",
    "ex = p_deriv.roots()\n",
    "p_ex = np.array([])\n",
    "for i in ex:\n",
    "    # To only take roots in range [-1,1]\n",
    "    if -1<= i and i<=1:\n",
    "        p_ex = np.append(p_ex,i)\n",
    "# Find the second derivative        \n",
    "p_deriv2 = p_deriv.deriv()\n",
    "for i in p_ex :\n",
    "    # For local minima, p'' (x)>0\n",
    "    if p_deriv2(i)>0:\n",
    "        print(\"local minima at t = \",i)\n",
    "        print(\"Value of p(t) at local minima is \", p(i))"
   ]
  },
  {
   "cell_type": "code",
   "execution_count": 64,
   "id": "recovered-smell",
   "metadata": {},
   "outputs": [
    {
     "data": {
      "image/png": "[encoded data removed]",
      "text/plain": [
       "<Figure size 432x288 with 1 Axes>"
      ]
     },
     "metadata": {
      "needs_background": "light"
     },
     "output_type": "display_data"
    },
    {
     "name": "stdout",
     "output_type": "stream",
     "text": [
      "Area under the curve is :  1.5691090196009048\n",
      "Approx value of pi is :  3.1382180392018095\n"
     ]
    }
   ],
   "source": [
    "# Q14 plot a function, approx the value of pi\n",
    "import matplotlib.pyplot as plt\n",
    "import numpy as np\n",
    "import scipy.integrate as intg\n",
    "def f(x):\n",
    "    return np.sqrt(1-((x-1)**2))\n",
    "t = np.linspace(0,2,100)\n",
    "y = f(t)\n",
    "plt.plot(t,y)\n",
    "plt.show()\n",
    "# Calculate the area under the curve \n",
    "area = intg.trapz(y,t)\n",
    "print(\"Area under the curve is : \",area)\n",
    "r = 1\n",
    "pi = 2 * area / r **2\n",
    "print(\"Approx value of pi is : \",pi)"
   ]
  },
  {
   "cell_type": "code",
   "execution_count": 81,
   "id": "active-removal",
   "metadata": {},
   "outputs": [
    {
     "name": "stdout",
     "output_type": "stream",
     "text": [
      "[10 11 12 13 14 15 16 17 18 19 20 21 22 23 24 25 26 27 29] [5 2 5 1 3 3 1 2 1 2 3 1 5 2 2 3 5 1 3]\n"
     ]
    }
   ],
   "source": [
    "# Code to generate CSV files.\n",
    "f = open(\"file1.csv\",\"w\")\n",
    "f2 = open(\"file2.csv\",\"w\")\n",
    "\n",
    "age = np.random.randint(10,30,50)\n",
    "age2 = np.random.randint(8,25,30)\n",
    "a,b = np.unique(age,return_counts = True)\n",
    "c,d = np.unique(age2,return_counts = True)\n",
    "print(a,b)\n",
    "for i in np.arange(len(a)):\n",
    "    f.write (\"{},{}\\n\".format(a[i],b[i]))\n",
    "\n",
    "for i in np.arange(len(c)):\n",
    "    f2.write (\"{},{}\\n\".format(c[i],d[i]))\n",
    "f.close()\n",
    "f2.close()"
   ]
  },
  {
   "cell_type": "code",
   "execution_count": 97,
   "id": "perceived-corporation",
   "metadata": {},
   "outputs": [
    {
     "name": "stdout",
     "output_type": "stream",
     "text": [
      "[ 8.  9. 10. 11. 12. 13. 14. 15. 16. 17. 18. 20. 22. 23.]\n",
      "10.0 is present\n",
      "11.0 is present\n",
      "12.0 is present\n",
      "13.0 is present\n",
      "14.0 is present\n",
      "15.0 is present\n",
      "16.0 is present\n",
      "17.0 is present\n",
      "18.0 is present\n",
      "19.0 Not present\n",
      "20.0 is present\n",
      "21.0 Not present\n",
      "22.0 is present\n",
      "23.0 is present\n",
      "24.0 Not present\n",
      "25.0 Not present\n",
      "26.0 Not present\n",
      "27.0 Not present\n",
      "29.0 Not present\n"
     ]
    }
   ],
   "source": [
    "# Q16 \n",
    "import numpy as np\n",
    "import matplotlib.pyplot as plt\n",
    "f1 = np.genfromtxt(\"file1.csv\",delimiter=',')\n",
    "f2 = np.genfromtxt(\"file2.csv\",delimiter=',')\n",
    "ages1 = f1[:,0]\n",
    "ages2 = f2[:,0]\n",
    "ages = np.append(ages1,ages2)\n",
    "print(ages2)\n",
    "for i in ages:\n",
    "    if i in ages1 and i in ages2:\n",
    "        \n",
    "        "
   ]
  },
  {
   "cell_type": "code",
   "execution_count": 91,
   "id": "clear-carry",
   "metadata": {},
   "outputs": [
    {
     "data": {
      "text/plain": [
       "False"
      ]
     },
     "execution_count": 91,
     "metadata": {},
     "output_type": "execute_result"
    }
   ],
   "source": [
    "a = np.array([1,2,3,4])\n",
    "6 in a"
   ]
  },
  {
   "cell_type": "code",
   "execution_count": 121,
   "id": "final-influence",
   "metadata": {},
   "outputs": [
    {
     "name": "stdout",
     "output_type": "stream",
     "text": [
      "[[2 5 0 1 3]\n",
      " [1 0 3 0 5]\n",
      " [0 1 0 5 4]\n",
      " [1 2 1 1 3]\n",
      " [2 5 5 5 0]]\n"
     ]
    },
    {
     "data": {
      "text/plain": [
       "0"
      ]
     },
     "execution_count": 121,
     "metadata": {},
     "output_type": "execute_result"
    }
   ],
   "source": [
    "a = np.random.randint(6,size=(5,5))\n",
    "# a[start_row:end_row,startcol:end_col]\n",
    "print(a)\n",
    "a[4,4]"
   ]
  },
  {
   "cell_type": "code",
   "execution_count": 122,
   "id": "recreational-hamburg",
   "metadata": {},
   "outputs": [],
   "source": [
    "a = np.random.randint(15,size = 50)"
   ]
  },
  {
   "cell_type": "code",
   "execution_count": 128,
   "id": "rough-asian",
   "metadata": {},
   "outputs": [
    {
     "data": {
      "text/plain": [
       "(array([ 4.,  5., 10.,  1.,  4.,  9.,  3.,  5.,  3.,  6.]),\n",
       " array([ 0. ,  1.4,  2.8,  4.2,  5.6,  7. ,  8.4,  9.8, 11.2, 12.6, 14. ]),\n",
       " <BarContainer object of 10 artists>)"
      ]
     },
     "execution_count": 128,
     "metadata": {},
     "output_type": "execute_result"
    },
    {
     "data": {
      "image/png": "[encoded data removed]",
      "text/plain": [
       "<Figure size 432x288 with 1 Axes>"
      ]
     },
     "metadata": {
      "needs_background": "light"
     },
     "output_type": "display_data"
    }
   ],
   "source": [
    "plt.hist(a)"
   ]
  },
  {
   "cell_type": "code",
   "execution_count": null,
   "id": "super-breed",
   "metadata": {},
   "outputs": [],
   "source": []
  }
 ],
 "metadata": {
  "kernelspec": {
   "display_name": "Python 3",
   "language": "python",
   "name": "python3"
  },
  "language_info": {
   "codemirror_mode": {
    "name": "ipython",
    "version": 3
   },
   "file_extension": ".py",
   "mimetype": "text/x-python",
   "name": "python",
   "nbconvert_exporter": "python",
   "pygments_lexer": "ipython3",
   "version": "3.7.6"
  }
 },
 "nbformat": 4,
 "nbformat_minor": 5
}
