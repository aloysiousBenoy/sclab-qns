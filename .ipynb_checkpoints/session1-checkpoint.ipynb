{
 "cells": [
  {
   "cell_type": "code",
   "execution_count": 48,
   "id": "optimum-peter",
   "metadata": {},
   "outputs": [
    {
     "name": "stdout",
     "output_type": "stream",
     "text": [
      "H16 is \n",
      " [[ 1  1  1  1  1  1  1  1  1  1  1  1  1  1  1  1]\n",
      " [ 1 -1  1 -1  1 -1  1 -1  1 -1  1 -1  1 -1  1 -1]\n",
      " [ 1  1 -1 -1  1  1 -1 -1  1  1 -1 -1  1  1 -1 -1]\n",
      " [ 1 -1 -1  1  1 -1 -1  1  1 -1 -1  1  1 -1 -1  1]\n",
      " [ 1  1  1  1 -1 -1 -1 -1  1  1  1  1 -1 -1 -1 -1]\n",
      " [ 1 -1  1 -1 -1  1 -1  1  1 -1  1 -1 -1  1 -1  1]\n",
      " [ 1  1 -1 -1 -1 -1  1  1  1  1 -1 -1 -1 -1  1  1]\n",
      " [ 1 -1 -1  1 -1  1  1 -1  1 -1 -1  1 -1  1  1 -1]\n",
      " [ 1  1  1  1  1  1  1  1 -1 -1 -1 -1 -1 -1 -1 -1]\n",
      " [ 1 -1  1 -1  1 -1  1 -1 -1  1 -1  1 -1  1 -1  1]\n",
      " [ 1  1 -1 -1  1  1 -1 -1 -1 -1  1  1 -1 -1  1  1]\n",
      " [ 1 -1 -1  1  1 -1 -1  1 -1  1  1 -1 -1  1  1 -1]\n",
      " [ 1  1  1  1 -1 -1 -1 -1 -1 -1 -1 -1  1  1  1  1]\n",
      " [ 1 -1  1 -1 -1  1 -1  1 -1  1 -1  1  1 -1  1 -1]\n",
      " [ 1  1 -1 -1 -1 -1  1  1 -1 -1  1  1  1  1 -1 -1]\n",
      " [ 1 -1 -1  1 -1  1  1 -1 -1  1  1 -1  1 -1 -1  1]]\n",
      "H4 is \n",
      " [[ 1  1  1  1]\n",
      " [ 1 -1  1 -1]\n",
      " [ 1  1 -1 -1]\n",
      " [ 1 -1 -1  1]]\n"
     ]
    }
   ],
   "source": [
    "# Q1 Hadamard Matrix\n",
    "import numpy as np\n",
    "def h(n):\n",
    "    if n==0:\n",
    "        return np.array([[1]])\n",
    "    else:\n",
    "        return np.block([[h(n-1),h(n-1)],\n",
    "                        [h(n-1),-h(n-1)]])\n",
    "a = h(4) # for n=4, find H16\n",
    "b = h(2) # for n=2, find H4\n",
    "print(\"H16 is \\n\",a)\n",
    "print(\"H4 is \\n\",b)"
   ]
  },
  {
   "cell_type": "code",
   "execution_count": 108,
   "id": "novel-restaurant",
   "metadata": {},
   "outputs": [
    {
     "name": "stdout",
     "output_type": "stream",
     "text": [
      "[[ 1  1]\n",
      " [ 1 -1]\n",
      " [-1  1]\n",
      " [ 0  1]]\n"
     ]
    },
    {
     "data": {
      "text/plain": [
       "2"
      ]
     },
     "execution_count": 108,
     "metadata": {},
     "output_type": "execute_result"
    }
   ],
   "source": [
    "# Q2. given an even integer N, generate a matrix of order NxN\n",
    "N = 4\n",
    "c = np.random.randint(-1,2,(N,N//2))\n",
    "d = np.block([[c,c]])\n",
    "# calculate the rank of the matrix\n",
    "np.linalg.matrix_rank(d)"
   ]
  },
  {
   "cell_type": "code",
   "execution_count": 168,
   "id": "adverse-metallic",
   "metadata": {},
   "outputs": [
    {
     "name": "stdout",
     "output_type": "stream",
     "text": [
      "For M = 1\n",
      "average probability is : 1.0\n",
      "error : 0.30000000000000004\n",
      "For M = 2\n",
      "average probability is : 1.0\n",
      "error : 0.30000000000000004\n",
      "For M = 50\n",
      "average probability is : 0.58\n",
      "error : 0.12\n",
      "For M = 100\n",
      "average probability is : 0.71\n",
      "error : 0.010000000000000009\n",
      "For M = 500\n",
      "average probability is : 0.71\n",
      "error : 0.010000000000000009\n"
     ]
    },
    {
     "data": {
      "image/png": "[encoded data removed]",
      "text/plain": [
       "<Figure size 432x288 with 1 Axes>"
      ]
     },
     "metadata": {
      "needs_background": "light"
     },
     "output_type": "display_data"
    }
   ],
   "source": [
    "# Q5a\n",
    "import matplotlib.pyplot as plt\n",
    "# Function to simulate coin tosses\n",
    "def toss():\n",
    "    t = np.random.randint(0,100)\n",
    "    # P(1) = 0.7\n",
    "    if 70>=t:\n",
    "        return 1\n",
    "    else :\n",
    "        return 0\n",
    "# Function to calculate average probalilty of tosses\n",
    "def p_avg(res,N):\n",
    "    return np.sum(res)/N\n",
    "# Calculate the error in the probality\n",
    "def p_error(p_avg):\n",
    "    return np.abs(0.7-p_avg)\n",
    "\n",
    "def run_exp(N):\n",
    "    res = np.array([]) # Array to store all results\n",
    "    for i in range(N):\n",
    "        res = np.append(res,toss())\n",
    "    p_cap = p_avg(res,N)\n",
    "    e_M = p_error(p_cap)\n",
    "    print(\"For M =\",N)\n",
    "    print(\"average probability is :\",p_cap)\n",
    "    print(\"error :\", e_M)\n",
    "    return e_M\n",
    "\n",
    "M = np.array([1,2,50,100,500])\n",
    "e = np.array([])\n",
    "for i in M:\n",
    "    r = run_exp(i)\n",
    "    e = np.append(e,r)\n",
    "plt.plot(M,e)\n",
    "plt.show()"
   ]
  }
 ],
 "metadata": {
  "kernelspec": {
   "display_name": "Python 3",
   "language": "python",
   "name": "python3"
  },
  "language_info": {
   "codemirror_mode": {
    "name": "ipython",
    "version": 3
   },
   "file_extension": ".py",
   "mimetype": "text/x-python",
   "name": "python",
   "nbconvert_exporter": "python",
   "pygments_lexer": "ipython3",
   "version": "3.7.6"
  }
 },
 "nbformat": 4,
 "nbformat_minor": 5
}
